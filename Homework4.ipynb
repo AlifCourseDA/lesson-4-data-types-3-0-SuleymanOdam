{
 "cells": [
  {
   "cell_type": "code",
   "execution_count": 1,
   "id": "2c69719a",
   "metadata": {},
   "outputs": [
    {
     "name": "stdout",
     "output_type": "stream",
     "text": [
      "3\n",
      "арбуз \n",
      "барабан \n",
      "ворона \n",
      "Yes\n"
     ]
    }
   ],
   "source": [
    "print(\"Yes\" if all(n[0].lower() in 'абв' for n in [input() for n in range(int((input())))]) else \"No\")"
   ]
  },
  {
   "cell_type": "code",
   "execution_count": 2,
   "id": "9869040e",
   "metadata": {},
   "outputs": [
    {
     "name": "stdout",
     "output_type": "stream",
     "text": [
      "Enter the any word:Привет \n",
      "П\n",
      "р\n",
      "и\n",
      "в\n",
      "е\n",
      "т\n",
      " \n"
     ]
    }
   ],
   "source": [
    "word = str(input(\"Enter the any word:\"))\n",
    "for i in range(len(word)):\n",
    "    print(word[i])"
   ]
  },
  {
   "cell_type": "code",
   "execution_count": 3,
   "id": "94237d22",
   "metadata": {},
   "outputs": [
    {
     "name": "stdout",
     "output_type": "stream",
     "text": [
      "Необхожимая длина заголовка:25\n",
      "Количесвто заголовок которое нужно сократить:3\n",
      "Enter the any sentence:Начался саммит по глобальному потеплению\n",
      "Начался саммит по глоб...\n",
      "Enter the any sentence:Завтра Новый год!\n",
      "Завтра Новый год!\n",
      "Enter the any sentence:Python и Java конкурируют за звание самого популярного языка программирования\n",
      "Python и Java конкурир...\n"
     ]
    }
   ],
   "source": [
    "number_L , number_N = int(input(\"Необхожимая длина заголовка:\")),int(input(\"Количесвто заголовок которое нужно сократить:\"))\n",
    "for i in range(number_N):\n",
    "    text = str(input(\"Enter the any sentence:\"))\n",
    "    if len(text) <= number_L :\n",
    "        print(text)\n",
    "    else :\n",
    "        print(text[ : number_L - 3] + \"...\")"
   ]
  },
  {
   "cell_type": "code",
   "execution_count": null,
   "id": "7b5ea6d5",
   "metadata": {},
   "outputs": [],
   "source": []
  },
  {
   "cell_type": "code",
   "execution_count": 4,
   "id": "3d6250d7",
   "metadata": {},
   "outputs": [
    {
     "name": "stdout",
     "output_type": "stream",
     "text": [
      "мама\n",
      "no\n"
     ]
    }
   ],
   "source": [
    "word = str(input())\n",
    "x = len(word)\n",
    "i = 0\n",
    "x = x - 1\n",
    "k = 0\n",
    "while x - i >= i:\n",
    "    if word[x - i] == word[i]:\n",
    "        i += 1\n",
    "    else:\n",
    "        k = 1\n",
    "        break\n",
    "if k == 1:\n",
    "  print(\"no\")\n",
    "else:\n",
    "  print(\"yes\")"
   ]
  },
  {
   "cell_type": "code",
   "execution_count": 5,
   "id": "2cdf77cb",
   "metadata": {},
   "outputs": [
    {
     "name": "stdout",
     "output_type": "stream",
     "text": [
      "Code without comments:\n",
      "\n",
      "\n",
      "    \n",
      "print(\"What is your name?\") \n",
      "name = input() \n",
      "print(f\"Hello, {name}!\") \n",
      "\n",
      "    \n"
     ]
    }
   ],
   "source": [
    "import re\n",
    "\n",
    "def remove_comments(input_code):\n",
    "    # Regular expression to match Python comments\n",
    "    comment_pattern = r'#.*?$|\\'\\'\\'[\\s\\S]*?\\'\\'\\'|\"\"\"\\s*[\\s\\S]*?\"\"\"\\n?'\n",
    "    \n",
    "    # Remove comments using regular expression\n",
    "    code_without_comments = re.sub(comment_pattern, '', input_code, flags=re.MULTILINE)\n",
    "    \n",
    "    return code_without_comments\n",
    "\n",
    "if __name__ == \"__main__\":\n",
    "    # Пример строки кода с комментариями\n",
    "    code_with_comments = \"\"\"\n",
    "    # Моя первая супер-пупер программа\n",
    "print(\"What is your name?\") #  Как тебя зовут?\n",
    "name = input() #  Сохраняем имя\n",
    "print(f\"Hello, {name}!\") #  Здороваемся# Конец моей супер-пупер программы\n",
    "\n",
    "    \"\"\"\n",
    "\n",
    "    # Удаляем комментарии\n",
    "    code_without_comments = remove_comments(code_with_comments)\n",
    "\n",
    "    # Выводим код без комментариев\n",
    "    print(\"Code without comments:\\n\")\n",
    "    print(code_without_comments)"
   ]
  },
  {
   "cell_type": "code",
   "execution_count": 2,
   "id": "f65ea3ab",
   "metadata": {},
   "outputs": [
    {
     "name": "stdout",
     "output_type": "stream",
     "text": [
      "Enter the any words:Финики \n",
      "Enter the any words:Фоккача\n",
      "Enter the any words:зайка\n",
      "Enter the any words:Филин\n",
      "Enter the any words:Фосфор \n",
      "Enter the any words:Светафор \n",
      "Enter the any words:ФИНИШ\n",
      "Символ, который встречается чаще всего:и\n"
     ]
    }
   ],
   "source": [
    "def character_lines():\n",
    "    lines = []\n",
    "    while True :\n",
    "        line = str(input(\"Enter the any words:\"))\n",
    "        if line.upper() == \"ФИНИШ\":\n",
    "            break\n",
    "        lines.append(line)\n",
    "        \n",
    "    all_text = \"\\n\".join(lines)\n",
    "    char_frequency = {}\n",
    "    for char in all_text :\n",
    "        if char.isspace():\n",
    "            continue \n",
    "        char_frequency[char] = char_frequency.get(char,0) + 1\n",
    "    most_common_char = max(char_frequency,key = char_frequency.get)\n",
    "    return most_common_char\n",
    "if __name__ == \"__main__\":\n",
    "    result = character_lines()\n",
    "    print(f\"Символ, который встречается чаще всего:{result}\")"
   ]
  },
  {
   "cell_type": "code",
   "execution_count": 5,
   "id": "fdcd5a1c",
   "metadata": {},
   "outputs": [
    {
     "name": "stdout",
     "output_type": "stream",
     "text": [
      "Введите количество чисел: 5\n",
      "Введите число #1: 222222\n",
      "Введите число #2: 22222\n",
      "Введите число #3: 2222\n",
      "Введите число #4: 222\n",
      "Введите число #5: 22\n",
      "Введите степень, в которую нужно возвести числа: 2\n",
      "Результат:\n",
      "Число #1 в степени 2: 49382617284.0\n",
      "Число #2 в степени 2: 493817284.0\n",
      "Число #3 в степени 2: 4937284.0\n",
      "Число #4 в степени 2: 49284.0\n",
      "Число #5 в степени 2: 484.0\n"
     ]
    }
   ],
   "source": [
    "def number(n, numbers, exponent):\n",
    "    # Возводим все числа в заданную степень\n",
    "    number = [num ** exponent for num in numbers]\n",
    "    \n",
    "    return number\n",
    "\n",
    "if __name__ == \"__main__\":\n",
    "    try:\n",
    "        # Вводим количество чисел\n",
    "        n = int(input(\"Введите количество чисел: \"))\n",
    "\n",
    "        # Вводим сами числа\n",
    "        numbers = [float(input(f\"Введите число #{i + 1}: \")) for i in range(n)]\n",
    "\n",
    "        # Вводим степень, в которую нужно возвести числа\n",
    "        exponent = int(input(\"Введите степень, в которую нужно возвести числа: \"))\n",
    "\n",
    "        # Возводим числа в заданную степень\n",
    "        result = number(n, numbers, exponent)\n",
    "\n",
    "        # Выводим результат\n",
    "        print(\"Результат:\")\n",
    "        for i, number in enumerate(result):\n",
    "            print(f\"Число #{i + 1} в степени {exponent}: {number}\")\n",
    "\n",
    "    except ValueError:\n",
    "        print(\"Ошибка ввода. Пожалуйста, введите корректные числа и степень.\")"
   ]
  },
  {
   "cell_type": "code",
   "execution_count": 8,
   "id": "fc892d64",
   "metadata": {},
   "outputs": [
    {
     "name": "stdout",
     "output_type": "stream",
     "text": [
      "Enter the numbers:3\n",
      "Enter the  number:102\n",
      "Enter the  number:39\n",
      "Enter the  number:768\n",
      "3\n"
     ]
    }
   ],
   "source": [
    "n = int(input(\"Enter the numbers:\"))  # вводим сколько будет чисел\n",
    "second_number = 0  # второе число для расчета НОДа на первом цикле\n",
    "\n",
    "for i in range(1, n + 1):\n",
    "    first_number = int(input(\"Enter the  number:\"))\n",
    "    while first_number != 0 and second_number != 0:\n",
    "        if first_number > second_number:\n",
    "            first_number %= second_number\n",
    "        else:\n",
    "            second_number %= first_number\n",
    "    # Перезаписываем вторую переменную num2 НОДом.\n",
    "    # На следующем цикле будем искать НОД нового введенного числа и полученного НОД\n",
    "    second_number += first_number\n",
    "\n",
    "print(second_number)"
   ]
  },
  {
   "cell_type": "code",
   "execution_count": 25,
   "id": "4fc6d43b",
   "metadata": {},
   "outputs": [
    {
     "name": "stdout",
     "output_type": "stream",
     "text": [
      "0110000000100001000\n",
      "1 0\n",
      "2 1\n",
      "7 0\n",
      "1 1\n",
      "4 0\n",
      "1 1\n",
      "3 0\n"
     ]
    }
   ],
   "source": [
    "string = input()\n",
    "cout = 1\n",
    "for i in range(len(string)-1):\n",
    "    if i <= len(string):\n",
    "        if string[i] == string[i + 1]:\n",
    "            cout += 1\n",
    "        else:\n",
    "            a = string[i]\n",
    "            print(cout, string[i])\n",
    "            cout = 1\n",
    "print(cout, string[i])"
   ]
  },
  {
   "cell_type": "code",
   "execution_count": null,
   "id": "02e56559",
   "metadata": {},
   "outputs": [],
   "source": [
    "def find_objects_along_roadside(num_of_locations, locations):\n",
    "    all_objects = set()\n",
    "\n",
    "    for i in range(num_of_locations):\n",
    "        location_description = locations[i].split()\n",
    "        objects_in_location = set(location_description)\n",
    "\n",
    "        all_objects.update(objects_in_location)\n",
    "\n",
    "    return all_objects\n",
    "\n",
    "if __name__ == \"__main__\":\n",
    "    try:\n",
    "        # Вводим количество придорожных местностей\n",
    "        num_of_locations = int(input(\"Введите количество придорожных местностей: \"))\n",
    "\n",
    "        # Вводим описание придорожных местностей\n",
    "        locations = [input(f\"Введите описание придорожной местности #{i + 1}: \") for i in range(num_of_locations)]\n",
    "\n",
    "        # Находим все объекты в придорожных местностях\n",
    "        result = find_objects_along_roadside(num_of_locations, locations)\n",
    "\n",
    "        # Выводим результат\n",
    "        print(\"Найденные объекты в придорожных местностях:\")\n",
    "        for obj in result:\n",
    "            print(obj)\n",
    "\n",
    "    except ValueError:\n",
    "        print(\"Ошибка ввода. Пожалуйста, введите корректные данные.\")"
   ]
  },
  {
   "cell_type": "code",
   "execution_count": null,
   "id": "28201b4b",
   "metadata": {},
   "outputs": [],
   "source": [
    "n, m = int(input()), int(input())\n",
    "print(len(set(input() for i in range(n)) & set(input() for i in range(m))) or 'Таких нет')\n"
   ]
  },
  {
   "cell_type": "code",
   "execution_count": 31,
   "id": "0b219178",
   "metadata": {},
   "outputs": [
    {
     "name": "stdout",
     "output_type": "stream",
     "text": [
      "Введите описание придорожной местности (пустая строка для завершения ввода): березка елочка зайка волк березка\n",
      "Введите описание придорожной местности (пустая строка для завершения ввода): сосна зайка сосна елочка зайка медведь\n",
      "Введите описание придорожной местности (пустая строка для завершения ввода): сосна сосна сосна белочка сосна белочка\n",
      "Введите описание придорожной местности (пустая строка для завершения ввода): \n",
      "Список увиденного и их количество:\n",
      "березка: 2\n",
      "елочка: 2\n",
      "зайка: 3\n",
      "волк: 1\n",
      "сосна: 6\n",
      "медведь: 1\n",
      "белочка: 2\n"
     ]
    }
   ],
   "source": [
    "def count_objects_along_roadside():\n",
    "    all_objects = {}\n",
    "\n",
    "    while True:\n",
    "        description = input(\"Введите описание придорожной местности (пустая строка для завершения ввода): \")\n",
    "        \n",
    "        if not description:\n",
    "            break\n",
    "\n",
    "        # Разделяем описание на отдельные слова\n",
    "        objects_in_location = description.split()\n",
    "\n",
    "        # Обновляем словарь с объектами\n",
    "        for obj in objects_in_location:\n",
    "            all_objects[obj] = all_objects.get(obj, 0) + 1\n",
    "\n",
    "    return all_objects\n",
    "\n",
    "if __name__ == \"__main__\":\n",
    "    try:\n",
    "        # Считываем описания придорожных местностей\n",
    "        objects_count = count_objects_along_roadside()\n",
    "\n",
    "        # Выводим результат\n",
    "        print(\"Список увиденного и их количество:\")\n",
    "        for obj, count in objects_count.items():\n",
    "            print(f\"{obj}: {count}\")\n",
    "\n",
    "    except ValueError:\n",
    "        print(\"Ошибка ввода. Пожалуйста, введите корректные данные.\")"
   ]
  },
  {
   "cell_type": "code",
   "execution_count": 1,
   "id": "e8a08b90",
   "metadata": {},
   "outputs": [
    {
     "name": "stdout",
     "output_type": "stream",
     "text": [
      "Введите русский текст: Привет,мир!\n",
      "Транслитерированный текст:\n",
      "Privet,mir!\n"
     ]
    }
   ],
   "source": [
    "def transliterate(text):\n",
    "    translit_table = {\n",
    "        'А': 'A', 'Б': 'B', 'В': 'V', 'Г': 'G', 'Д': 'D', 'Е': 'E', 'Ё': 'E',\n",
    "        'Ж': 'ZH', 'З': 'Z', 'И': 'I', 'Й': 'I', 'К': 'K', 'Л': 'L', 'М': 'M',\n",
    "        'Н': 'N', 'О': 'O', 'П': 'P', 'Р': 'R', 'С': 'S', 'Т': 'T', 'У': 'U',\n",
    "        'Ф': 'F', 'Х': 'KH', 'Ц': 'TC', 'Ч': 'CH', 'Ш': 'SH', 'Щ': 'SHCH',\n",
    "        'Ы': 'Y', 'Э': 'E', 'Ю': 'IU', 'Я': 'IA',\n",
    "        'а': 'a', 'б': 'b', 'в': 'v', 'г': 'g', 'д': 'd', 'е': 'e', 'ё': 'e',\n",
    "        'ж': 'zh', 'з': 'z', 'и': 'i', 'й': 'i', 'к': 'k', 'л': 'l', 'м': 'm',\n",
    "        'н': 'n', 'о': 'o', 'п': 'p', 'р': 'r', 'с': 's', 'т': 't', 'у': 'u',\n",
    "        'ф': 'f', 'х': 'kh', 'ц': 'tc', 'ч': 'ch', 'ш': 'sh', 'щ': 'shch',\n",
    "        'ы': 'y', 'э': 'e', 'ю': 'iu', 'я': 'ia'\n",
    "    }\n",
    "\n",
    "    result = []\n",
    "    for char in text:\n",
    "        result.append(translit_table.get(char, char))\n",
    "\n",
    "    return ''.join(result)\n",
    "\n",
    "if __name__ == \"__main__\":\n",
    "    input_text = input(\"Введите русский текст: \")\n",
    "    output_text = transliterate(input_text)\n",
    "    print(\"Транслитерированный текст:\")\n",
    "    print(output_text)"
   ]
  },
  {
   "cell_type": "code",
   "execution_count": 4,
   "id": "39770cf7",
   "metadata": {},
   "outputs": [
    {
     "name": "stdout",
     "output_type": "stream",
     "text": [
      "Введите количество сотрудников: 3\n",
      "Введите фамилию сотрудника #1: Иванов \n",
      "Введите фамилию сотрудника #2: Петров \n",
      "Введите фамилию сотрудника #3: Сидоров \n",
      "Однофамильцев нет\n"
     ]
    }
   ],
   "source": [
    "def find_homonyms(n, employees):\n",
    "    homonyms = {}  # Словарь для хранения фамилий и их количества\n",
    "\n",
    "    for employee in employees:\n",
    "        homonyms[employee] = homonyms.get(employee, 0) + 1\n",
    "\n",
    "    # Фильтруем фамилии, у которых количество сотрудников больше 1\n",
    "    homonyms_filtered = {k: v for k, v in homonyms.items() if v > 1}\n",
    "\n",
    "    return homonyms_filtered\n",
    "\n",
    "if __name__ == \"__main__\":\n",
    "    try:\n",
    "        # Вводим количество сотрудников\n",
    "        n = int(input(\"Введите количество сотрудников: \"))\n",
    "\n",
    "        # Вводим фамилии сотрудников\n",
    "        employee_names = [input(f\"Введите фамилию сотрудника #{i + 1}: \") for i in range(n)]\n",
    "\n",
    "        # Ищем однофамильцев\n",
    "        homonyms = find_homonyms(n, employee_names)\n",
    "\n",
    "        # Выводим результат\n",
    "        if homonyms:\n",
    "            print(\"Однофамильцы в организации:\")\n",
    "            for homonym, count in sorted(homonyms.items()):\n",
    "                print(f\"{homonym}: {count}\")\n",
    "        else:\n",
    "            print(\"Однофамильцев нет\")\n",
    "\n",
    "    except ValueError:\n",
    "        print(\"Ошибка ввода. Пожалуйста, введите корректные данные.\")"
   ]
  },
  {
   "cell_type": "code",
   "execution_count": 7,
   "id": "0c8c2159",
   "metadata": {},
   "outputs": [
    {
     "name": "stdout",
     "output_type": "stream",
     "text": [
      "Введите последовательность чисел через точку с запятой и пробел (; ): 2; 3; 4; 5; 6; 7; 8; 9; 10; 11; 12; 13; 14; 15; 16; 17; 18; 19; 20\n",
      "2 - взаимно простое 3, 5, 7, 9, 11, 13, 15, 17, 19\n",
      "3 - взаимно простое 2, 4, 5, 7, 8, 10, 11, 13, 14, 16, 17, 19, 20\n",
      "4 - взаимно простое 3, 5, 7, 9, 11, 13, 15, 17, 19\n",
      "5 - взаимно простое 2, 3, 4, 6, 7, 8, 9, 11, 12, 13, 14, 16, 17, 18, 19\n",
      "6 - взаимно простое 5, 7, 11, 13, 17, 19\n",
      "7 - взаимно простое 2, 3, 4, 5, 6, 8, 9, 10, 11, 12, 13, 15, 16, 17, 18, 19, 20\n",
      "8 - взаимно простое 3, 5, 7, 9, 11, 13, 15, 17, 19\n",
      "9 - взаимно простое 2, 4, 5, 7, 8, 10, 11, 13, 14, 16, 17, 19, 20\n",
      "10 - взаимно простое 3, 7, 9, 11, 13, 17, 19\n",
      "11 - взаимно простое 2, 3, 4, 5, 6, 7, 8, 9, 10, 12, 13, 14, 15, 16, 17, 18, 19, 20\n",
      "12 - взаимно простое 5, 7, 11, 13, 17, 19\n",
      "13 - взаимно простое 2, 3, 4, 5, 6, 7, 8, 9, 10, 11, 12, 14, 15, 16, 17, 18, 19, 20\n",
      "14 - взаимно простое 3, 5, 9, 11, 13, 15, 17, 19\n",
      "15 - взаимно простое 2, 4, 7, 8, 11, 13, 14, 16, 17, 19\n",
      "16 - взаимно простое 3, 5, 7, 9, 11, 13, 15, 17, 19\n",
      "17 - взаимно простое 2, 3, 4, 5, 6, 7, 8, 9, 10, 11, 12, 13, 14, 15, 16, 18, 19, 20\n",
      "18 - взаимно простое 5, 7, 11, 13, 17, 19\n",
      "19 - взаимно простое 2, 3, 4, 5, 6, 7, 8, 9, 10, 11, 12, 13, 14, 15, 16, 17, 18, 20\n",
      "20 - взаимно простое 3, 7, 9, 11, 13, 17, 19\n"
     ]
    }
   ],
   "source": [
    "def gcd(a, b):\n",
    "    while b:\n",
    "        a, b = b, a % b\n",
    "    return a\n",
    "\n",
    "def find_coprimes(sequence):\n",
    "    numbers = list(map(int, sequence.split('; ')))\n",
    "    result = {}\n",
    "\n",
    "    for i in range(len(numbers)):\n",
    "        coprimes = []\n",
    "        for j in range(len(numbers)):\n",
    "            if i != j and gcd(numbers[i], numbers[j]) == 1:\n",
    "                coprimes.append(numbers[j])\n",
    "        if coprimes:\n",
    "            result[numbers[i]] = coprimes\n",
    "\n",
    "    return result\n",
    "\n",
    "if __name__ == \"__main__\":\n",
    "    try:\n",
    "        # Вводим последовательность чисел\n",
    "        input_sequence = input(\"Введите последовательность чисел через точку с запятой и пробел (; ): \")\n",
    "\n",
    "        # Ищем взаимно простые числа\n",
    "        coprimes_dict = find_coprimes(input_sequence)\n",
    "\n",
    "        # Выводим результат\n",
    "        for num, coprimes in sorted(coprimes_dict.items()):\n",
    "            print(f\"{num} - взаимно простое {', '.join(map(str, coprimes))}\")\n",
    "\n",
    "    except ValueError:\n",
    "        print(\"Ошибка ввода. Пожалуйста, введите корректные данные.\")"
   ]
  },
  {
   "cell_type": "code",
   "execution_count": 9,
   "id": "8e183029",
   "metadata": {},
   "outputs": [
    {
     "name": "stdout",
     "output_type": "stream",
     "text": [
      "a:1\n",
      "b:5\n",
      "[1, 4, 9, 16, 25]\n"
     ]
    }
   ],
   "source": [
    "a , b = int(input(\"a:\")), int(input(\"b:\"))\n",
    "squares = [x**2 for x in range(a, b + 1)]\n",
    "print(squares)"
   ]
  },
  {
   "cell_type": "code",
   "execution_count": 11,
   "id": "4eb3eb1c",
   "metadata": {},
   "outputs": [
    {
     "name": "stdout",
     "output_type": "stream",
     "text": [
      "Enter the number:4\n",
      "[[1, 2, 3, 4], [2, 4, 6, 8], [3, 6, 9, 12], [4, 8, 12, 16]]\n"
     ]
    }
   ],
   "source": [
    "n = int(input(\"Enter the number:\"))\n",
    "multiplication_table = [[i * j for j in range(1, n + 1)] for i in range(1, n + 1)]\n",
    "print(multiplication_table)"
   ]
  },
  {
   "cell_type": "code",
   "execution_count": 14,
   "id": "6804cf09",
   "metadata": {},
   "outputs": [
    {
     "name": "stdout",
     "output_type": "stream",
     "text": [
      "Enter the any sentence:Мама мыла раму \n",
      "[4, 4, 4]\n"
     ]
    }
   ],
   "source": [
    "sentence = str(input(\"Enter the any sentence:\"))\n",
    "word_lengths = [len(word) for word in sentence.split()]\n",
    "print(word_lengths)"
   ]
  },
  {
   "cell_type": "code",
   "execution_count": 22,
   "id": "1645affe",
   "metadata": {},
   "outputs": [
    {
     "name": "stdout",
     "output_type": "stream",
     "text": [
      "Введите числа через пробел: 1 2 3 4 5\n",
      "{1, 3, 5}\n"
     ]
    }
   ],
   "source": [
    "numbers = [int(x) for x in input(\"Введите числа через пробел: \").split()]\n",
    "odd_numbers = {x for x in numbers if x % 2 != 0}\n",
    "print(odd_numbers)"
   ]
  },
  {
   "cell_type": "code",
   "execution_count": 28,
   "id": "216a67b6",
   "metadata": {},
   "outputs": [
    {
     "name": "stdout",
     "output_type": "stream",
     "text": [
      "Enter the numbers:1 2 3 4 5 6\n",
      "{1, 4}\n"
     ]
    }
   ],
   "source": [
    "numbers = [int(x) for x in input(\"Enter the numbers:\").split()]\n",
    "perfect_squares = {x for x in numbers if int(x**0.5)**2 == x}\n",
    "print(perfect_squares)"
   ]
  },
  {
   "cell_type": "code",
   "execution_count": 29,
   "id": "b80db4fa",
   "metadata": {},
   "outputs": [
    {
     "name": "stdout",
     "output_type": "stream",
     "text": [
      "{16, 64, 36}\n"
     ]
    }
   ],
   "source": [
    "numbers = [number for number in range(16,100,4)]\n",
    "perfect_squares = {x for x in numbers if int(x**0.5)**2 == x}\n",
    "print(perfect_squares)"
   ]
  },
  {
   "cell_type": "code",
   "execution_count": 35,
   "id": "b1d37428",
   "metadata": {},
   "outputs": [
    {
     "name": "stdout",
     "output_type": "stream",
     "text": [
      "Введите строку: Мама мыла раму!\n",
      "Статистика по буквам:\n",
      "м: 0\n",
      "ы: 1\n",
      "р: 1\n",
      "у: 1\n",
      "л: 1\n",
      "а: 4\n"
     ]
    }
   ],
   "source": [
    "text = input(\"Введите строку: \")\n",
    "\n",
    "letter_stats = {char.lower(): text.lower().count(char) for char in set(text) if char.isalpha()}\n",
    "\n",
    "print(\"Статистика по буквам:\")\n",
    "for char, count in letter_stats.items():\n",
    "    print(f\"{char}: {count}\")"
   ]
  },
  {
   "cell_type": "code",
   "execution_count": 36,
   "id": "ba1dd326",
   "metadata": {},
   "outputs": [
    {
     "name": "stdout",
     "output_type": "stream",
     "text": [
      "Введите числа через пробел: 1 2 3 4 5\n",
      "Словарь делителей:\n",
      "1: [1]\n",
      "2: [1, 2]\n",
      "3: [1, 3]\n",
      "4: [1, 2, 4]\n",
      "5: [1, 5]\n"
     ]
    }
   ],
   "source": [
    "numbers = {int(x) for x in input(\"Введите числа через пробел: \").split()}\n",
    "\n",
    "divisors_dict = {num: [divisor for divisor in range(1, num + 1) if num % divisor == 0] for num in numbers}\n",
    "\n",
    "print(\"Словарь делителей:\")\n",
    "for num, divisors in divisors_dict.items():\n",
    "    print(f\"{num}: {divisors}\")"
   ]
  },
  {
   "cell_type": "code",
   "execution_count": null,
   "id": "b1841922",
   "metadata": {},
   "outputs": [],
   "source": []
  }
 ],
 "metadata": {
  "kernelspec": {
   "display_name": "Python 3 (ipykernel)",
   "language": "python",
   "name": "python3"
  },
  "language_info": {
   "codemirror_mode": {
    "name": "ipython",
    "version": 3
   },
   "file_extension": ".py",
   "mimetype": "text/x-python",
   "name": "python",
   "nbconvert_exporter": "python",
   "pygments_lexer": "ipython3",
   "version": "3.11.5"
  }
 },
 "nbformat": 4,
 "nbformat_minor": 5
}
